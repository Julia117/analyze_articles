{
 "cells": [
  {
   "cell_type": "code",
   "execution_count": 1,
   "metadata": {},
   "outputs": [],
   "source": [
    "import wget\n",
    "import nbimporter\n",
    "import operator\n",
    "import numpy as np"
   ]
  },
  {
   "cell_type": "code",
   "execution_count": 2,
   "metadata": {},
   "outputs": [],
   "source": [
    "meduza = \"Британские организации, работающие над созданием вакцины от COVID-19, подвергаются хакерским атакам со стороны других государств, в частности, Ирана, России и Китая. Об этом пишет The Guardian со ссылкой на данные Национального центра кибербезопасности. Как отмечает издание, ни одна из атак пока не была успешной. Во всем мире сейчас разрабатывается несколько десятков различных видов вакцин от COVID-19.Британские организации, работающие над созданием вакцины от COVID-19, подвергаются хакерским атакам со стороны других государств, в частности, Ирана, России и Китая. Об этом пишет The Guardian со ссылкой на данные Национального центра кибербезопасности. Как отмечает издание, ни одна из атак пока не была успешной.Во всем мире сейчас разрабатывается несколько десятков различных видов вакцин от COVID-19.\"\n",
    "vedomosti = \"В Великобритании дальше всех в разработке вакцины продвинулись ученые из Института Дженнера в Оксфорде. Разрабатываемый там препарат уже запустили в производство параллельно с началом испытаний на людях — в случае, если они окажутся успешными, уже к сентябрю ученые рассчитывают получить до миллиона доз.Британские университеты и научные организации, работающие над вакциной от коронавирусной инфекции, стали жертвами хакерских атак, пишет The Guardian со ссылкой на экспертов по кибербезопасности. «Считается, что за хакерскими атаками стоят государства, включая Иран и Россию, эксперты также называют Китай в качестве вероятного виновного», – пишет британская газета. О том, что кибератаки на британские учреждения, занимающиеся исследованиями нового коронавируса, можно отследить к России и Ирану, также сообщает таблоид The Mail on SundayВ Великобритании дальше всех в разработке вакцины продвинулись ученые из Института Дженнера в Оксфорде. Разрабатываемый там препарат уже запустили в производство параллельно с началом испытаний на людях — в случае, если они окажутся успешными, уже к сентябрю ученые рассчитывают получить до миллиона доз.Британские университеты и научные организации, работающие над вакциной от коронавирусной инфекции, стали жертвами хакерских атак, пишет The Guardian со ссылкой на экспертов по кибербезопасности. «Считается, что за хакерскими атаками стоят государства, включая Иран и Россию, эксперты также называют Китай в качестве вероятного виновного», – пишет британская газета. О том, что кибератаки на британские учреждения, занимающиеся исследованиями нового коронавируса, можно отследить к России и Ирану, также сообщает таблоид The Mail on Sunday\""
   ]
  },
  {
   "cell_type": "code",
   "execution_count": 3,
   "metadata": {},
   "outputs": [
    {
     "data": {
      "text/plain": [
       "[('женщина_NOUN', 0.5500056743621826),\n",
       " ('мужчина_NOUN', 0.5161216855049133),\n",
       " ('человеческий_ADJ', 0.5005477666854858),\n",
       " ('идолопоклонствовать_VERB', 0.48388850688934326),\n",
       " ('высокопорядочный_ADJ', 0.4818764925003052),\n",
       " ('правдознатец_NOUN', 0.48151782155036926),\n",
       " ('некорыстолюбивый_ADJ', 0.47985556721687317),\n",
       " ('народ_NOUN', 0.4772421419620514),\n",
       " ('старое::стариться_VERB', 0.4748774766921997),\n",
       " ('людишки_NOUN', 0.4739970564842224)]"
      ]
     },
     "execution_count": 3,
     "metadata": {},
     "output_type": "execute_result"
    }
   ],
   "source": [
    "import gensim\n",
    "import gensim.downloader as api\n",
    "# Get information about the model or dataset\n",
    "api.info('word2vec-ruscorpora-300')\n",
    "\n",
    "# Download\n",
    "w2v_model = api.load(\"word2vec-ruscorpora-300\")\n",
    "w2v_model.most_similar('человек_NOUN')\n",
    "##w2v_model."
   ]
  },
  {
   "cell_type": "markdown",
   "metadata": {},
   "source": [
    "### Text Preprocessing"
   ]
  },
  {
   "cell_type": "code",
   "execution_count": 4,
   "metadata": {},
   "outputs": [],
   "source": [
    "def clean_token(token, misc):\n",
    "    \"\"\"\n",
    "    :param token:\n",
    "    :param misc:\n",
    "    :return:\n",
    "    \"\"\"\n",
    "    out_token = token.strip().replace(' ', '')\n",
    "    if token == 'Файл' and 'SpaceAfter=No' in misc:\n",
    "        return None\n",
    "    return out_token\n",
    "\n",
    "\n",
    "def clean_lemma(lemma, pos, lowercase=True):\n",
    "    \"\"\"\n",
    "    :param lemma:\n",
    "    :param pos:\n",
    "    :return:\n",
    "    \"\"\"\n",
    "    out_lemma = lemma.strip().replace(' ', '').replace('_', '')\n",
    "    if lowercase:\n",
    "        out_lemma = out_lemma.lower()\n",
    "    if '|' in out_lemma or out_lemma.endswith('.jpg') or out_lemma.endswith('.png'):\n",
    "        return None\n",
    "    if pos != 'PUNCT':\n",
    "        if out_lemma.startswith('«') or out_lemma.startswith('»'):\n",
    "            out_lemma = ''.join(out_lemma[1:])\n",
    "        if out_lemma.endswith('«') or out_lemma.endswith('»'):\n",
    "            out_lemma = ''.join(out_lemma[:-1])\n",
    "        if out_lemma.endswith('!') or out_lemma.endswith('?') or out_lemma.endswith(',') \\\n",
    "                or out_lemma.endswith('.'):\n",
    "            out_lemma = ''.join(out_lemma[:-1])\n",
    "    return out_lemma\n",
    "def num_replace(word):\n",
    "    newtoken = 'x' * len(word)\n",
    "    nw = newtoken + '_NUM'\n",
    "    return nw\n",
    "\n"
   ]
  },
  {
   "cell_type": "code",
   "execution_count": 5,
   "metadata": {},
   "outputs": [],
   "source": [
    "def process(pipeline, text='Строка', keep_pos=True, keep_punct=False):\n",
    "    entities = {'PROPN'}\n",
    "    named = False\n",
    "    memory = []\n",
    "    mem_case = None\n",
    "    mem_number = None\n",
    "    tagged_propn = []\n",
    "\n",
    "\n",
    "    # обрабатываем текст, получаем результат в формате conllu:\n",
    "    processed = pipeline.process(text)\n",
    "\n",
    "\n",
    "    # пропускаем строки со служебной информацией:\n",
    "    content = [l for l in processed.split('\\n') if not l.startswith('#')]\n",
    "\n",
    "    # извлекаем из обработанного текста леммы, тэги и морфологические характеристики\n",
    "    tagged = [w.split('\\t') for w in content if w]\n",
    "\n",
    "    for t in tagged:\n",
    "        if len(t) != 10:\n",
    "            continue\n",
    "        (word_id, token, lemma, pos, xpos, feats, head, deprel, deps, misc) = t\n",
    "        token = clean_token(token, misc)\n",
    "        lemma = clean_lemma(lemma, pos)\n",
    "        if not lemma or not token:\n",
    "            continue\n",
    "        if pos in entities:\n",
    "            if '|' not in feats:\n",
    "                tagged_propn.append('%s_%s' % (lemma, pos))\n",
    "                continue\n",
    "            morph = {el.split('=')[0]: el.split('=')[1] for el in feats.split('|')}\n",
    "            if 'Case' not in morph or 'Number' not in morph:\n",
    "                tagged_propn.append('%s_%s' % (lemma, pos))\n",
    "                continue\n",
    "            if not named:\n",
    "                named = True\n",
    "                mem_case = morph['Case']\n",
    "                mem_number = morph['Number']\n",
    "            if morph['Case'] == mem_case and morph['Number'] == mem_number:\n",
    "                memory.append(lemma)\n",
    "                if 'SpacesAfter=\\\\n' in misc or 'SpacesAfter=\\s\\\\n' in misc:\n",
    "                    named = False\n",
    "                    past_lemma = '::'.join(memory)\n",
    "                    memory = []\n",
    "                    tagged_propn.append(past_lemma + '_PROPN ')\n",
    "            else:\n",
    "                named = False\n",
    "                past_lemma = '::'.join(memory)\n",
    "                memory = []\n",
    "                tagged_propn.append(past_lemma + '_PROPN ')\n",
    "                tagged_propn.append('%s_%s' % (lemma, pos))\n",
    "        else:\n",
    "            if not named:\n",
    "                if pos == 'NUM' and token.isdigit():  # Заменяем числа на xxxxx той же длины\n",
    "                    lemma = num_replace(token)\n",
    "                tagged_propn.append('%s_%s' % (lemma, pos))\n",
    "            else:\n",
    "                named = False\n",
    "                past_lemma = '::'.join(memory)\n",
    "                memory = []\n",
    "                tagged_propn.append(past_lemma + '_PROPN ')\n",
    "                tagged_propn.append('%s_%s' % (lemma, pos))\n",
    "\n",
    "    if not keep_punct:\n",
    "        tagged_propn = [word for word in tagged_propn if word.split('_')[1] != 'PUNCT']\n",
    "    if not keep_pos:\n",
    "        tagged_propn = [word.split('_')[0] for word in tagged_propn]\n",
    "    return tagged_propn"
   ]
  },
  {
   "cell_type": "code",
   "execution_count": 6,
   "metadata": {},
   "outputs": [],
   "source": [
    "from ufal.udpipe import Model, Pipeline\n",
    "import os\n",
    "import re\n",
    "import sys\n",
    "\n",
    "def tag_ud(text='Текст нужно передать функции в виде строки!', modelfile='udpipe_syntagrus.model'):\n",
    "    udpipe_model_url = 'https://rusvectores.org/static/models/udpipe_syntagrus.model'\n",
    "    udpipe_filename = udpipe_model_url.split('/')[-1]\n",
    "\n",
    "    if not os.path.isfile(modelfile):\n",
    "        print('UDPipe model not found. Downloading...', file=sys.stderr)\n",
    "        wget.download(udpipe_model_url)\n",
    "        print('\\nLoading the model...', file=sys.stderr)\n",
    "    model = Model.load(modelfile)\n",
    "    process_pipeline = Pipeline(model, 'tokenize', Pipeline.DEFAULT, Pipeline.DEFAULT, 'conllu')\n",
    "\n",
    "\n",
    "\n",
    "    #print('Processing input...', file=sys.stderr)\n",
    "    for line in text:\n",
    "        output = process(process_pipeline, text=line)\n",
    "        print(' '.join(output))\n",
    "        #print(line)\n",
    "        #print(text)\n",
    "        # line = unify_sym(line.strip()) # здесь могла бы быть ваша функция очистки текста\n",
    "    return output\n"
   ]
  },
  {
   "cell_type": "code",
   "execution_count": 7,
   "metadata": {},
   "outputs": [
    {
     "name": "stdout",
     "output_type": "stream",
     "text": [
      "британский_ADJ организация_NOUN работать_VERB над_ADP создание_NOUN вакцина_PROPN  от_ADP covid_PROPN  xx_NUM_NUM подвергаться_VERB хакерский_ADJ атака_NOUN со_ADP сторона_NOUN другой_ADJ государство_NOUN в_ADP частность_NOUN иран_PROPN  россия_PROPN  и_CCONJ китай_PROPN  о_ADP это_PRON писать_VERB the_PROPN guardian_PROPN с_ADP ссылка_NOUN на_ADP данные_NOUN национальный_ADJ центр_NOUN кибербезопасность_NOUN как_SCONJ отмечать_VERB издание_NOUN ни_CCONJ один_NUM из_ADP атака_NOUN пока_ADV не_PART быть_AUX успешный_ADJ в_ADP весь_DET мир_NOUN сейчас_ADV разрабатывать_VERB несколько_NUM десяток_NOUN различный_ADJ вид_NOUN вакцина_NOUN от_ADP covid_PROPN  19.британский_ADJ организация_NOUN работать_VERB над_ADP создание_NOUN вакцина_PROPN  от_ADP covid_PROPN  xx_NUM_NUM подвергаться_VERB хакерский_ADJ атака_NOUN со_ADP сторона_NOUN другой_ADJ государство_NOUN в_ADP частность_NOUN иран_PROPN  россия_PROPN  и_CCONJ китай_PROPN  о_ADP это_PRON писать_VERB the_PROPN guardian_PROPN с_ADP ссылка_NOUN на_ADP данные_NOUN национальный_ADJ центр_NOUN кибербезопасность_NOUN как_SCONJ отмечать_VERB издание_NOUN ни_CCONJ один_NUM из_ADP атака_NOUN пока_ADV не_PART быть_AUX успешный_ADJ в_ADP весь_DET мир_NOUN сейчас_ADV разрабатывать_VERB несколько_NUM десяток_NOUN различный_ADJ вид_NOUN вакцина_NOUN от_ADP covid_PROPN  xx_NUM_NUM\n",
      "в_ADP великобритания_PROPN  далеко_ADV все_PRON в_ADP разработка_NOUN вакцина_NOUN продвигаться_VERB ученый_NOUN из_ADP институт::дженнер_PROPN  в_ADP оксфорд_PROPN  разрабатывать_VERB там_ADV препарат_NOUN уже_ADV запускать_VERB в_ADP производство_NOUN параллельно_ADV с_ADP начало_NOUN испытание_NOUN на_ADP человек_NOUN в_ADP случай_NOUN если_SCONJ они_PRON оказываться_VERB успешный_ADJ уже_ADV к_ADP сентябрь_NOUN ученый_NOUN рассчитывать_VERB получать_VERB до_ADP миллион_NOUN доза_NOUN британский_ADJ университет_NOUN и_CCONJ научный_ADJ организация_NOUN работать_VERB над_ADP вакцина_NOUN от_ADP коронавирусный_ADJ инфекция_NOUN становиться_VERB жертва_NOUN хакерский_ADJ атака_NOUN писать_VERB the_PROPN guardian_PROPN с_ADP ссылка_NOUN на_ADP эксперт_NOUN по_ADP кибербезопасность_NOUN считаться_VERB что_SCONJ за_ADP хакерско_NUM атака_NOUN стоять_VERB государство_NOUN включая_ADV иран_PROPN  и_CCONJ россия_PROPN  эксперт_NOUN также_ADV называть_VERB китай_PROPN  в_ADP качество_NOUN вероятный_ADJ виновного_NOUN писать_VERB британский_ADJ газета_NOUN о_ADP то_PRON что_SCONJ кибератака_NOUN на_ADP британский_ADJ учреждение_NOUN заниматься_VERB исследование_NOUN новый_ADJ коронавирус_NOUN можно_ADV отслеживать_VERB к_ADP россия_PROPN  и_CCONJ иран_PROPN  также_ADV сообщать_VERB таблоид_NOUN the_PROPN mail_PROPN on_X sundayв_NOUN великобритания_PROPN  далеко_ADV все_DET в_ADP разработка_NOUN вакцина_PROPN  продвигаться_VERB ученый_NOUN из_ADP институт::дженнер_PROPN  в_ADP оксфорд_PROPN  разрабатывать_VERB там_ADV препарат_NOUN уже_ADV запускать_VERB в_ADP производство_NOUN параллельно_ADV с_ADP начало_NOUN испытание_NOUN на_ADP человек_NOUN в_ADP случай_NOUN если_SCONJ они_PRON оказываться_VERB успешный_ADJ уже_ADV к_ADP сентябрь_NOUN ученый_NOUN рассчитывать_VERB получать_VERB до_ADP миллион_NOUN доза_NOUN .британский_ADJ университет_NOUN и_CCONJ научный_ADJ организация_NOUN работать_VERB над_ADP вакцина_NOUN от_ADP коронавирусный_ADJ инфекция_NOUN становиться_VERB жертва_NOUN хакерский_ADJ атака_NOUN писать_VERB the_PROPN guardian_PROPN с_ADP ссылка_NOUN на_ADP эксперт_NOUN по_ADP кибербезопасность_NOUN считаться_VERB что_SCONJ за_ADP хакерско_NUM атака_NOUN стоять_VERB государство_NOUN включая_ADV иран_PROPN  и_CCONJ россия_PROPN  эксперт_NOUN также_ADV называть_VERB китай_PROPN  в_ADP качество_NOUN вероятный_ADJ виновного_NOUN писать_VERB британский_ADJ газета_NOUN о_ADP то_PRON что_SCONJ кибератака_NOUN на_ADP британский_ADJ учреждение_NOUN заниматься_VERB исследование_NOUN новый_ADJ коронавирус_NOUN можно_ADV отслеживать_VERB к_ADP россия_PROPN  и_CCONJ иран_PROPN  также_ADV сообщать_VERB таблоид_NOUN the_PROPN mail_PROPN on_X sunday_PROPN\n",
      "тверской_ADJ суд_NOUN москва_PROPN  арестовывать_VERB администратор_NOUN паблик_NOUN омбудсмен_PROPN  полиции_NOUN игорь::худяков_PROPN  в_ADP рамка_NOUN дело_NOUN о_ADP распространение_NOUN порнография_NOUN о_ADP это_PRON сообщать_VERB интерфакс»_NOUN худяков_PROPN  арестовывать_VERB на_ADP два_NUM месяц_NOUN до_ADP xx_NUM_NUM июль_NOUN xxxx_NUM_NUM год_NOUN он_PRON подозревать_VERB в_ADP преступление_NOUN предусмотреть_VERB пункт_NOUN а_CCONJ и_CCONJ бы_X часть_NOUN x_NUM_NUM статья_NOUN xxx_NUM_NUM ук_NOUN рф_PROPN  незаконный_ADJ изготовление_NOUN и_CCONJ оборот_NOUN порнографический_ADJ материал_NOUN или_CCONJ предмет_NOUN группа_NOUN лицо_NOUN по_ADP предварительный_ADJ сговор_NOUN с_ADP использование_NOUN интернет_NOUN подозреваемый_VERB по_ADP дело_NOUN также_ADV проходить_VERB создатель_NOUN паблик_NOUN владимир::воронцов_PROPN  по_ADP версия_NOUN следствие_NOUN в_ADP xxxx_NUM_NUM год_NOUN он_PRON распространять_VERB в_ADP социальный_ADJ сеть_NOUN интимный_ADJ фотография_NOUN неназванный_ADJ женщина_NOUN дело_NOUN заводить_VERB по_ADP она_PRON заявление_NOUN воронцов_PROPN  также_ADV обвинять_VERB в_ADP вымогательство_NOUN xxx_NUM_NUM тысяча_NOUN рубль_NOUN в_ADP бывший_ADJ полицейский_NOUN за_ADP отказ_NOUN от_ADP распространение_NOUN личный_ADJ фотография_NOUN сейчас_ADV основатель_NOUN омбудсмен_PROPN  полиции_NOUN находиться_VERB под_ADP арест_NOUN воронцов_PROPN  отрицать_VERB вино_NOUN и_CCONJ связывать_VERB преследование_NOUN с_ADP свой_DET деятельность_NOUN по_ADP защита_NOUN право_NOUN рядовой_ADJ сотрудник_NOUN полиция_NOUN\n"
     ]
    }
   ],
   "source": [
    "#text = open(textfile, 'r', encoding='utf-8').read()\n",
    "meduza_tagged = tag_ud(text=[\"Британские организации, работающие над созданием вакцины от COVID-19, подвергаются хакерским атакам со стороны других государств, в частности, Ирана, России и Китая. Об этом пишет The Guardian со ссылкой на данные Национального центра кибербезопасности. Как отмечает издание, ни одна из атак пока не была успешной. Во всем мире сейчас разрабатывается несколько десятков различных видов вакцин от COVID-19.Британские организации, работающие над созданием вакцины от COVID-19, подвергаются хакерским атакам со стороны других государств, в частности, Ирана, России и Китая. Об этом пишет The Guardian со ссылкой на данные Национального центра кибербезопасности. Как отмечает издание, ни одна из атак пока не была успешной.Во всем мире сейчас разрабатывается несколько десятков различных видов вакцин от COVID-19.\"])\n",
    "vedomosti_tagged = tag_ud(text=[\"В Великобритании дальше всех в разработке вакцины продвинулись ученые из Института Дженнера в Оксфорде. Разрабатываемый там препарат уже запустили в производство параллельно с началом испытаний на людях — в случае, если они окажутся успешными, уже к сентябрю ученые рассчитывают получить до миллиона доз.Британские университеты и научные организации, работающие над вакциной от коронавирусной инфекции, стали жертвами хакерских атак, пишет The Guardian со ссылкой на экспертов по кибербезопасности. «Считается, что за хакерскими атаками стоят государства, включая Иран и Россию, эксперты также называют Китай в качестве вероятного виновного», – пишет британская газета. О том, что кибератаки на британские учреждения, занимающиеся исследованиями нового коронавируса, можно отследить к России и Ирану, также сообщает таблоид The Mail on SundayВ Великобритании дальше всех в разработке вакцины продвинулись ученые из Института Дженнера в Оксфорде. Разрабатываемый там препарат уже запустили в производство параллельно с началом испытаний на людях — в случае, если они окажутся успешными, уже к сентябрю ученые рассчитывают получить до миллиона доз.Британские университеты и научные организации, работающие над вакциной от коронавирусной инфекции, стали жертвами хакерских атак, пишет The Guardian со ссылкой на экспертов по кибербезопасности. «Считается, что за хакерскими атаками стоят государства, включая Иран и Россию, эксперты также называют Китай в качестве вероятного виновного», – пишет британская газета. О том, что кибератаки на британские учреждения, занимающиеся исследованиями нового коронавируса, можно отследить к России и Ирану, также сообщает таблоид The Mail on Sunday\"])\n",
    "bad_tagged = tag_ud(text=[\"Тверской суд Москвы арестовал администратора паблика «Омбудсмен полиции» Игоря Худякова в рамках дела о распространении порнографии. Об этом сообщает «Интерфакс».Худяков арестован на два месяца, до 22 июля 2020 года. Его подозревают в преступлении, предусмотренного пунктами а) и б) части 3 статьи 242 УК РФ (незаконные изготовление и оборот порнографических материалов или предметов группой лиц по предварительному сговору с использованием интернета). Подозреваемым по делу также проходит создатель паблика Владимир Воронцов. По версии следствия, в 2018 году он распространил в социальных сетях интимные фотографии неназванной женщины; дело завели по ее заявлению. Воронцов также обвиняется в вымогательстве 300 тысяч рублей у бывшего полицейского за отказ от распространения личных фотографий. Сейчас основатель «Омбудсмена полиции» находится под арестом. Воронцов отрицает вину и связывает преследование со своей деятельностью по защите прав рядовых сотрудников полиции.\"])\n"
   ]
  },
  {
   "cell_type": "code",
   "execution_count": 8,
   "metadata": {},
   "outputs": [],
   "source": [
    "def get_result_vector(tagged_article):\n",
    "    result = []\n",
    "    for word in tagged_article:\n",
    "        try:\n",
    "            result.append(w2v_model.get_vector(word))\n",
    "        except: \n",
    "            pass\n",
    "\n",
    "    return np.array([x/300 for x in sum(result)])"
   ]
  },
  {
   "cell_type": "code",
   "execution_count": 9,
   "metadata": {},
   "outputs": [],
   "source": [
    "meduza_vector = get_result_vector(meduza_tagged)\n",
    "\n",
    "vedomosti_vector = get_result_vector(vedomosti_tagged)\n",
    "\n",
    "bad_vector = get_result_vector(bad_tagged)\n"
   ]
  },
  {
   "cell_type": "code",
   "execution_count": 10,
   "metadata": {},
   "outputs": [],
   "source": [
    "def vectors_similarity(v1, v2):\n",
    "    return np.sum(v1 * v2) / (np.linalg.norm(v1) * np.linalg.norm(v2))\n"
   ]
  },
  {
   "cell_type": "code",
   "execution_count": 11,
   "metadata": {},
   "outputs": [
    {
     "name": "stdout",
     "output_type": "stream",
     "text": [
      "0.9269583480843927\n",
      "0.8424901803694705\n",
      "0.8584819699906707\n"
     ]
    }
   ],
   "source": [
    "print(vectors_similarity(vedomosti_vector, meduza_vector))\n",
    "print(vectors_similarity(bad_vector, meduza_vector))\n",
    "print(vectors_similarity(bad_vector, vedomosti_vector))\n",
    "\n"
   ]
  },
  {
   "cell_type": "code",
   "execution_count": null,
   "metadata": {},
   "outputs": [],
   "source": []
  }
 ],
 "metadata": {
  "kernelspec": {
   "display_name": "Python 3",
   "language": "python",
   "name": "python3"
  },
  "language_info": {
   "codemirror_mode": {
    "name": "ipython",
    "version": 3
   },
   "file_extension": ".py",
   "mimetype": "text/x-python",
   "name": "python",
   "nbconvert_exporter": "python",
   "pygments_lexer": "ipython3",
   "version": "3.7.6"
  }
 },
 "nbformat": 4,
 "nbformat_minor": 4
}
